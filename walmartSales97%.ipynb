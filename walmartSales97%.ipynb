{
 "cells": [
  {
   "cell_type": "code",
   "execution_count": null,
   "id": "8925d6b4",
   "metadata": {},
   "outputs": [
    {
     "ename": "",
     "evalue": "",
     "output_type": "error",
     "traceback": [
      "\u001b[1;31mThe kernel failed to start as the Python Environment 'Python 3.9.0' is no longer available. Consider selecting another kernel or refreshing the list of Python Environments."
     ]
    }
   ],
   "source": [
    "import pandas as pd\n",
    "import numpy as np\n",
    "import matplotlib.pyplot as plt\n",
    "import seaborn as sns\n",
    "\n",
    "import warnings\n",
    "warnings.filterwarnings('ignore')"
   ]
  },
  {
   "cell_type": "code",
   "execution_count": null,
   "id": "d979b7bd",
   "metadata": {},
   "outputs": [],
   "source": [
    "df = pd.read_csv(r'C:\\Users\\Dell\\Desktop\\DataSets\\Walmart_Sales.csv')"
   ]
  },
  {
   "cell_type": "code",
   "execution_count": null,
   "id": "16e404b0",
   "metadata": {},
   "outputs": [],
   "source": [
    "df['Date'] = pd.to_datetime(df['Date'],dayfirst=True)"
   ]
  },
  {
   "cell_type": "code",
   "execution_count": null,
   "id": "be9e06b4",
   "metadata": {},
   "outputs": [],
   "source": [
    "df.isna().sum()\n",
    "df.duplicated().sum()"
   ]
  },
  {
   "cell_type": "code",
   "execution_count": null,
   "id": "380f64de",
   "metadata": {},
   "outputs": [],
   "source": [
    "df.corr()"
   ]
  },
  {
   "cell_type": "code",
   "execution_count": null,
   "id": "e3b5a7a9",
   "metadata": {},
   "outputs": [],
   "source": [
    "df.drop(['Date', 'Store'],axis=1, inplace=True)"
   ]
  },
  {
   "cell_type": "code",
   "execution_count": null,
   "id": "0823c19b",
   "metadata": {},
   "outputs": [],
   "source": [
    "corr = df.corr()\n",
    "sns.heatmap(corr)"
   ]
  },
  {
   "cell_type": "code",
   "execution_count": null,
   "id": "104dacc6",
   "metadata": {},
   "outputs": [],
   "source": [
    "df.corr()"
   ]
  },
  {
   "cell_type": "code",
   "execution_count": null,
   "id": "a6b8942d",
   "metadata": {},
   "outputs": [],
   "source": [
    "df['Holiday_Flag'].value_counts()"
   ]
  },
  {
   "cell_type": "code",
   "execution_count": null,
   "id": "135a1e84",
   "metadata": {},
   "outputs": [],
   "source": [
    "df.groupby('Holiday_Flag')['Weekly_Sales'].mean()"
   ]
  },
  {
   "cell_type": "code",
   "execution_count": null,
   "id": "f202bf10",
   "metadata": {},
   "outputs": [],
   "source": [
    "df['holiday_impact'] = df['Weekly_Sales']*df['Weekly_Sales']"
   ]
  },
  {
   "cell_type": "code",
   "execution_count": null,
   "id": "239d1d99",
   "metadata": {},
   "outputs": [],
   "source": [
    "df.corr()"
   ]
  },
  {
   "cell_type": "code",
   "execution_count": null,
   "id": "be4e84fe",
   "metadata": {},
   "outputs": [],
   "source": [
    "sns.pairplot(df)"
   ]
  },
  {
   "cell_type": "code",
   "execution_count": null,
   "id": "9b5a4a6c",
   "metadata": {},
   "outputs": [],
   "source": [
    "fif = df.sample(100)"
   ]
  },
  {
   "cell_type": "code",
   "execution_count": null,
   "id": "dd22dd96",
   "metadata": {},
   "outputs": [],
   "source": [
    "fif.columns"
   ]
  },
  {
   "cell_type": "code",
   "execution_count": null,
   "id": "6fc9ae41",
   "metadata": {},
   "outputs": [],
   "source": [
    "plt.scatter(data=fif, x='Weekly_Sales', y='Unemployment')\n",
    "plt.xlabel('Weekly Sales')\n",
    "plt.ylabel('Fuel_Price')\n",
    "plt.show()"
   ]
  },
  {
   "cell_type": "code",
   "execution_count": null,
   "id": "c08fc675",
   "metadata": {},
   "outputs": [],
   "source": [
    "df.corr()['Weekly_Sales']['Unemployment']"
   ]
  },
  {
   "cell_type": "code",
   "execution_count": null,
   "id": "533fafb2",
   "metadata": {},
   "outputs": [],
   "source": [
    "df.drop('Fuel_Price',axis=1, inplace=True)\n",
    "df.drop('CPI',axis=1, inplace=True)\n",
    "df.drop('Temperature',axis=1, inplace=True)"
   ]
  },
  {
   "cell_type": "code",
   "execution_count": null,
   "id": "0f30709f",
   "metadata": {},
   "outputs": [],
   "source": [
    "df"
   ]
  },
  {
   "cell_type": "code",
   "execution_count": null,
   "id": "35b36f20",
   "metadata": {},
   "outputs": [],
   "source": [
    "sns.pairplot(df)"
   ]
  },
  {
   "cell_type": "code",
   "execution_count": null,
   "id": "6a154a8e",
   "metadata": {},
   "outputs": [],
   "source": [
    "x = df[['holiday_impact']]"
   ]
  },
  {
   "cell_type": "code",
   "execution_count": null,
   "id": "b89af7b0",
   "metadata": {},
   "outputs": [],
   "source": [
    "from sklearn.preprocessing import PolynomialFeatures\n",
    "poly = PolynomialFeatures(degree=2, include_bias=False)\n",
    "poly_fi = poly.fit_transform(x)\n",
    "fea = poly.get_feature_names_out(x.columns)\n",
    "df1 = pd.DataFrame(poly_fi, columns=fea)"
   ]
  },
  {
   "cell_type": "code",
   "execution_count": null,
   "id": "3d6a220b",
   "metadata": {},
   "outputs": [],
   "source": [
    "df.drop('holiday_impact',axis=1, inplace=True)"
   ]
  },
  {
   "cell_type": "code",
   "execution_count": null,
   "id": "05415363",
   "metadata": {},
   "outputs": [],
   "source": [
    "df = pd.concat([df, df1],axis=1)"
   ]
  },
  {
   "cell_type": "code",
   "execution_count": null,
   "id": "2f0ecaab",
   "metadata": {},
   "outputs": [],
   "source": [
    "df.duplicated().sum()"
   ]
  },
  {
   "cell_type": "code",
   "execution_count": null,
   "id": "c86a682f",
   "metadata": {},
   "outputs": [],
   "source": [
    "sns.pairplot(df)"
   ]
  },
  {
   "cell_type": "code",
   "execution_count": null,
   "id": "5e0ca315",
   "metadata": {},
   "outputs": [],
   "source": [
    "from sklearn.preprocessing import MinMaxScaler\n",
    "scaler = MinMaxScaler()\n",
    "df['Weekly_Sales'] = scaler.fit_transform(df[['Weekly_Sales']])"
   ]
  },
  {
   "cell_type": "code",
   "execution_count": null,
   "id": "9d66b0da",
   "metadata": {},
   "outputs": [],
   "source": [
    "df"
   ]
  },
  {
   "cell_type": "code",
   "execution_count": null,
   "id": "345629f0",
   "metadata": {},
   "outputs": [],
   "source": [
    "x = df.drop('Weekly_Sales',axis=1)\n",
    "y = df['Weekly_Sales']"
   ]
  },
  {
   "cell_type": "code",
   "execution_count": null,
   "id": "d0e946fb",
   "metadata": {},
   "outputs": [],
   "source": [
    "from sklearn.model_selection import train_test_split\n",
    "from sklearn.linear_model import LinearRegression\n",
    "from sklearn.model_selection import RandomizedSearchCV\n",
    "from sklearn.metrics import mean_squared_error, r2_score\n",
    "from sklearn.linear_model import Ridge, Lasso\n",
    "\n",
    "\n",
    "x_train, x_test, y_train, y_test = train_test_split(x,y, test_size=0.30, random_state=1)\n",
    "\n",
    "model = Ridge()\n",
    "param_dist = {'alpha':np.linspace(0.01, 100, 100)}\n",
    "\n",
    "random_search = RandomizedSearchCV(\n",
    "    estimator=model, param_distributions=param_dist,n_iter=10,\n",
    "    scoring='neg_mean_squared_error',cv=5, random_state=1, n_jobs=-1\n",
    "    )\n",
    "\n",
    "random_search.fit(x_train, y_train)\n",
    "pred = random_search.best_estimator_.predict(x_test)"
   ]
  },
  {
   "cell_type": "code",
   "execution_count": null,
   "id": "b82a1760",
   "metadata": {},
   "outputs": [],
   "source": [
    "from sklearn.metrics import mean_squared_error, r2_score\n",
    "\n",
    "print(\"Best Alpha:\", random_search.best_params_['alpha'])\n",
    "print(f'MSE : {mean_squared_error(y_test, pred)}')\n",
    "print(f'r2_score : {r2_score(y_test, pred)}')"
   ]
  },
  {
   "cell_type": "code",
   "execution_count": null,
   "id": "eff451e5",
   "metadata": {},
   "outputs": [],
   "source": [
    "ridge = Ridge(alpha=93.94)\n",
    "ridge.fit(x_train, y_train)\n",
    "y_pred = ridge.predict(x_test)\n",
    "\n",
    "print(f'MSE : {mean_squared_error(y_test, y_pred)}')\n",
    "print(f'r2_score : {r2_score(y_test, y_pred)}')"
   ]
  },
  {
   "cell_type": "code",
   "execution_count": null,
   "id": "b9388538",
   "metadata": {},
   "outputs": [],
   "source": [
    "plt.figure(figsize=(8,6))\n",
    "sns.scatterplot(x=y_test, y=pred, color='blue', label='Predicted VS Actual')\n",
    "sns.lineplot(x=y_test, y=y_test, color='red', label='Perfect Prediction Line')\n",
    "plt.xlabel('Actual Sales')\n",
    "\n",
    "plt.ylabel('Predicted Sales')\n",
    "plt.title('Linear Regression: Actual vs Predictor')\n",
    "plt.legend()\n",
    "plt.grid(True)\n",
    "plt.show()"
   ]
  },
  {
   "cell_type": "code",
   "execution_count": null,
   "id": "cbad2b5f",
   "metadata": {},
   "outputs": [],
   "source": [
    "residuals = y_test-pred\n",
    "sns.displot(residuals, kind='kde')"
   ]
  },
  {
   "cell_type": "code",
   "execution_count": null,
   "id": "925406bc",
   "metadata": {},
   "outputs": [],
   "source": [
    "import pickle\n",
    "pickle.dump(ridge, open('model.pkl','wb'))"
   ]
  },
  {
   "cell_type": "code",
   "execution_count": null,
   "id": "391f2d63",
   "metadata": {},
   "outputs": [],
   "source": [
    "model = pickle.load(open('model.pkl', 'rb'))"
   ]
  },
  {
   "cell_type": "code",
   "execution_count": null,
   "id": "b4131443",
   "metadata": {},
   "outputs": [],
   "source": [
    "model.predict(x_test)"
   ]
  },
  {
   "cell_type": "code",
   "execution_count": null,
   "id": "12d7dcef",
   "metadata": {},
   "outputs": [],
   "source": [
    "scaler = MinMaxScaler()\n",
    "scaler.fit(x_train)"
   ]
  },
  {
   "cell_type": "code",
   "execution_count": null,
   "id": "6ac64372",
   "metadata": {},
   "outputs": [],
   "source": [
    "pickle.dump(scaler, open('scaler.pkl','wb'))"
   ]
  },
  {
   "cell_type": "code",
   "execution_count": null,
   "id": "d5e62461",
   "metadata": {},
   "outputs": [],
   "source": [
    "scaler = pickle.load(open('scaler.pkl', 'rb'))"
   ]
  }
 ],
 "metadata": {
  "kernelspec": {
   "display_name": "venv",
   "language": "python",
   "name": "python3"
  },
  "language_info": {
   "codemirror_mode": {
    "name": "ipython",
    "version": 3
   },
   "file_extension": ".py",
   "mimetype": "text/x-python",
   "name": "python",
   "nbconvert_exporter": "python",
   "pygments_lexer": "ipython3",
   "version": "3.7.0"
  }
 },
 "nbformat": 4,
 "nbformat_minor": 5
}
